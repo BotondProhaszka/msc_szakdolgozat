{
 "cells": [
  {
   "cell_type": "code",
   "execution_count": 106,
   "metadata": {},
   "outputs": [],
   "source": [
    "import os\n",
    "import pandas as pd\n",
    "import numpy as np\n",
    "import matplotlib.pyplot as plt\n",
    "from entsoe import EntsoePandasClient"
   ]
  },
  {
   "cell_type": "code",
   "execution_count": 107,
   "metadata": {},
   "outputs": [],
   "source": [
    "my_api_key = os.environ.get('ENTSOE_API_KEY')\n",
    "client = EntsoePandasClient(api_key=my_api_key)"
   ]
  },
  {
   "cell_type": "markdown",
   "metadata": {},
   "source": [
    "# Parameters of the dataset"
   ]
  },
  {
   "cell_type": "code",
   "execution_count": 108,
   "metadata": {},
   "outputs": [],
   "source": [
    "prices_folder_path = './data/prices'\n",
    "loads_folder_path = './data/loads'"
   ]
  },
  {
   "cell_type": "code",
   "execution_count": 109,
   "metadata": {},
   "outputs": [],
   "source": [
    "year = '2023'\n",
    "start_date = f'{year}-01-01'\n",
    "end_date = f'{year}-12-31'\n",
    "country_code = 'HU'\n",
    "\n",
    "start_ts = pd.Timestamp(start_date, tz='Europe/Brussels')\n",
    "end_ts = pd.Timestamp(end_date, tz='Europe/Brussels')"
   ]
  },
  {
   "cell_type": "code",
   "execution_count": 110,
   "metadata": {},
   "outputs": [],
   "source": [
    "years = ['2017', '2018', '2019', '2020', '2021', '2022', '2023']"
   ]
  },
  {
   "cell_type": "code",
   "execution_count": 111,
   "metadata": {},
   "outputs": [],
   "source": [
    "def run_querry_day_ahead_prices(country_code, start_date, end_date):\n",
    "    filename = f\"{start_date}_{end_date}_{country_code}.csv\"\n",
    "\n",
    "    print(filename)\n",
    "\n",
    "    if os.path.exists(f'{prices_folder_path}/{filename}'):\n",
    "        print(\"The file exists, no need to download data from ENTSO-E\")\n",
    "    else:\n",
    "        print(\"The file does not exist, download data from ENTSO-E\")\n",
    "\n",
    "        df = client.query_day_ahead_prices(country_code, start=start_ts, end=end_ts)        # Data from ENTSO-E\n",
    "        df.to_csv(f'{prices_folder_path}/{filename}')"
   ]
  },
  {
   "cell_type": "code",
   "execution_count": 112,
   "metadata": {},
   "outputs": [],
   "source": [
    "def run_querry_load(country_code, start_date, end_date):\n",
    "    filename = f\"load_{start_date}_{end_date}_{country_code}.csv\"\n",
    "\n",
    "    print(filename)\n",
    "\n",
    "    if os.path.exists(f'{loads_folder_path}/{filename}'):\n",
    "        print(\"The file exists, no need to download data from ENTSO-E\")\n",
    "    else:\n",
    "        print(\"The file does not exist, download data from ENTSO-E\")\n",
    "\n",
    "        df =client.query_load(country_code, start=start_ts, end=end_ts)        # Data from ENTSO-E\n",
    "        df.to_csv(f'{loads_folder_path}/{filename}')"
   ]
  },
  {
   "cell_type": "code",
   "execution_count": 113,
   "metadata": {},
   "outputs": [
    {
     "name": "stdout",
     "output_type": "stream",
     "text": [
      "load_2017-01-01_2017-12-31_HU.csv\n",
      "The file exists, no need to download data from ENTSO-E\n",
      "load_2018-01-01_2018-12-31_HU.csv\n",
      "The file exists, no need to download data from ENTSO-E\n",
      "load_2019-01-01_2019-12-31_HU.csv\n",
      "The file exists, no need to download data from ENTSO-E\n",
      "load_2020-01-01_2020-12-31_HU.csv\n",
      "The file exists, no need to download data from ENTSO-E\n",
      "load_2021-01-01_2021-12-31_HU.csv\n",
      "The file exists, no need to download data from ENTSO-E\n",
      "load_2022-01-01_2022-12-31_HU.csv\n",
      "The file exists, no need to download data from ENTSO-E\n",
      "load_2023-01-01_2023-12-31_HU.csv\n",
      "The file exists, no need to download data from ENTSO-E\n"
     ]
    }
   ],
   "source": [
    "for year in years:\n",
    "    start_date = f'{year}-01-01'\n",
    "    end_date = f'{year}-12-31'\n",
    "    country_code = 'HU'\n",
    "\n",
    "    start_ts = pd.Timestamp(start_date, tz='Europe/Brussels')\n",
    "    end_ts = pd.Timestamp(end_date, tz='Europe/Brussels')\n",
    "    run_querry_load(country_code, start_date, end_date)"
   ]
  },
  {
   "cell_type": "markdown",
   "metadata": {},
   "source": [
    "# Create the base concatenated df\n",
    "\n",
    "First we will create a base concatenated dataframe with all the data from the different files but only the prices"
   ]
  },
  {
   "cell_type": "code",
   "execution_count": 114,
   "metadata": {},
   "outputs": [
    {
     "name": "stdout",
     "output_type": "stream",
     "text": [
      "The file exists, reading data from file\n"
     ]
    }
   ],
   "source": [
    "base_df_filename = f'./data/base_{country_code}_{years[0]}_{years[-1]}.csv'\n",
    "\n",
    "if os.path.exists(base_df_filename):\n",
    "    print(\"The file exists, reading data from file\")\n",
    "    df = pd.read_csv(base_df_filename, index_col=0, parse_dates=True)\n",
    "else:\n",
    "    print(\"The file does not exist, concatenating data from ENTSO-E\")\n",
    "    df = pd.DataFrame()\n",
    "\n",
    "    for year in years:\n",
    "        filename = f\"{year}-01-01_{year}-12-31_{country_code}.csv\"\n",
    "        if os.path.exists(f'{prices_folder_path}/{filename}'):\n",
    "            df_temp = pd.read_csv(f'{prices_folder_path}/{filename}', index_col=0, parse_dates=True)\n",
    "            df = pd.concat([df, df_temp])\n",
    "\n",
    "    df.columns = ['Price']\n",
    "    df['Datetime'] = df.index\n",
    "    df['Datetime'] = pd.to_datetime(df['Datetime'], utc=True)\n",
    "    df.reset_index(drop=True, inplace=True)\n",
    "    #order by datetime\n",
    "    df = df.sort_values(by='Datetime')\n",
    "    df = df.set_index('Datetime')\n",
    "    #add 1 hour to the datetime\n",
    "    df.index = df.index + pd.DateOffset(hours=1)\n",
    "    df.to_csv(base_df_filename)\n",
    "    df"
   ]
  },
  {
   "cell_type": "code",
   "execution_count": 115,
   "metadata": {},
   "outputs": [
    {
     "data": {
      "text/html": [
       "<div>\n",
       "<style scoped>\n",
       "    .dataframe tbody tr th:only-of-type {\n",
       "        vertical-align: middle;\n",
       "    }\n",
       "\n",
       "    .dataframe tbody tr th {\n",
       "        vertical-align: top;\n",
       "    }\n",
       "\n",
       "    .dataframe thead th {\n",
       "        text-align: right;\n",
       "    }\n",
       "</style>\n",
       "<table border=\"1\" class=\"dataframe\">\n",
       "  <thead>\n",
       "    <tr style=\"text-align: right;\">\n",
       "      <th></th>\n",
       "      <th>Price</th>\n",
       "    </tr>\n",
       "    <tr>\n",
       "      <th>Datetime</th>\n",
       "      <th></th>\n",
       "    </tr>\n",
       "  </thead>\n",
       "  <tbody>\n",
       "    <tr>\n",
       "      <th>2017-01-01 00:00:00+00:00</th>\n",
       "      <td>57.25</td>\n",
       "    </tr>\n",
       "    <tr>\n",
       "      <th>2017-01-01 01:00:00+00:00</th>\n",
       "      <td>50.21</td>\n",
       "    </tr>\n",
       "    <tr>\n",
       "      <th>2017-01-01 02:00:00+00:00</th>\n",
       "      <td>44.04</td>\n",
       "    </tr>\n",
       "    <tr>\n",
       "      <th>2017-01-01 03:00:00+00:00</th>\n",
       "      <td>32.81</td>\n",
       "    </tr>\n",
       "    <tr>\n",
       "      <th>2017-01-01 04:00:00+00:00</th>\n",
       "      <td>28.41</td>\n",
       "    </tr>\n",
       "    <tr>\n",
       "      <th>...</th>\n",
       "      <td>...</td>\n",
       "    </tr>\n",
       "    <tr>\n",
       "      <th>2023-12-30 20:00:00+00:00</th>\n",
       "      <td>62.01</td>\n",
       "    </tr>\n",
       "    <tr>\n",
       "      <th>2023-12-30 21:00:00+00:00</th>\n",
       "      <td>53.41</td>\n",
       "    </tr>\n",
       "    <tr>\n",
       "      <th>2023-12-30 22:00:00+00:00</th>\n",
       "      <td>50.10</td>\n",
       "    </tr>\n",
       "    <tr>\n",
       "      <th>2023-12-30 23:00:00+00:00</th>\n",
       "      <td>43.23</td>\n",
       "    </tr>\n",
       "    <tr>\n",
       "      <th>2023-12-31 00:00:00+00:00</th>\n",
       "      <td>34.76</td>\n",
       "    </tr>\n",
       "  </tbody>\n",
       "</table>\n",
       "<p>61183 rows × 1 columns</p>\n",
       "</div>"
      ],
      "text/plain": [
       "                           Price\n",
       "Datetime                        \n",
       "2017-01-01 00:00:00+00:00  57.25\n",
       "2017-01-01 01:00:00+00:00  50.21\n",
       "2017-01-01 02:00:00+00:00  44.04\n",
       "2017-01-01 03:00:00+00:00  32.81\n",
       "2017-01-01 04:00:00+00:00  28.41\n",
       "...                          ...\n",
       "2023-12-30 20:00:00+00:00  62.01\n",
       "2023-12-30 21:00:00+00:00  53.41\n",
       "2023-12-30 22:00:00+00:00  50.10\n",
       "2023-12-30 23:00:00+00:00  43.23\n",
       "2023-12-31 00:00:00+00:00  34.76\n",
       "\n",
       "[61183 rows x 1 columns]"
      ]
     },
     "execution_count": 115,
     "metadata": {},
     "output_type": "execute_result"
    }
   ],
   "source": [
    "df"
   ]
  },
  {
   "cell_type": "markdown",
   "metadata": {},
   "source": [
    "Concatenate the loads"
   ]
  },
  {
   "cell_type": "code",
   "execution_count": 116,
   "metadata": {},
   "outputs": [],
   "source": [
    "def load_15min_to_hourly(df):\n",
    "    df['Date'] = df.index.floor('h')\n",
    "    df['Load_avg'] = df.groupby('Date')['Actual Load'].transform('mean')\n",
    "    df2 = df[['Date', 'Load_avg']]\n",
    "    df2 = df2.drop_duplicates()\n",
    "    df2\n",
    "\n",
    "\n",
    "    return df"
   ]
  },
  {
   "cell_type": "code",
   "execution_count": 117,
   "metadata": {},
   "outputs": [
    {
     "name": "stdout",
     "output_type": "stream",
     "text": [
      "The file exists, reading data from file\n"
     ]
    }
   ],
   "source": [
    "base__price_df_filename = f'./data/base_loads_{country_code}_{years[0]}_{years[-1]}.csv'\n",
    "\n",
    "if os.path.exists(base__price_df_filename):\n",
    "    print(\"The file exists, reading data from file\")\n",
    "    load_df = pd.read_csv(base__price_df_filename, index_col=0, parse_dates=True)\n",
    "else:\n",
    "    print(\"The file does not exist, concatenating data from files\")\n",
    "    load_df = pd.DataFrame()\n",
    "    for year in years:\n",
    "        filename = f\"load_{year}-01-01_{year}-12-31_{country_code}.csv\"\n",
    "        if os.path.exists(f'{loads_folder_path}/{filename}'):\n",
    "            df_temp = pd.read_csv(f'{loads_folder_path}/{filename}', index_col=0, parse_dates=True)\n",
    "            load_df = pd.concat([load_df, df_temp])\n",
    "\n",
    "    #df.columns = ['Load']\n",
    "    load_df['Datetime'] = load_df.index\n",
    "    load_df['Datetime'] = pd.to_datetime(load_df['Datetime'], utc=True)\n",
    "    load_df.reset_index(drop=True, inplace=True)\n",
    "    #order by datetime\n",
    "    load_df = load_df.sort_values(by='Datetime')\n",
    "    load_df = load_df.set_index('Datetime')\n",
    "    #add 1 hour to the datetime\n",
    "    load_df.index = load_df.index + pd.DateOffset(hours=1)\n",
    "    load_df.to_csv(base__price_df_filename)\n",
    "    load_df"
   ]
  },
  {
   "cell_type": "code",
   "execution_count": 118,
   "metadata": {},
   "outputs": [
    {
     "data": {
      "text/html": [
       "<div>\n",
       "<style scoped>\n",
       "    .dataframe tbody tr th:only-of-type {\n",
       "        vertical-align: middle;\n",
       "    }\n",
       "\n",
       "    .dataframe tbody tr th {\n",
       "        vertical-align: top;\n",
       "    }\n",
       "\n",
       "    .dataframe thead th {\n",
       "        text-align: right;\n",
       "    }\n",
       "</style>\n",
       "<table border=\"1\" class=\"dataframe\">\n",
       "  <thead>\n",
       "    <tr style=\"text-align: right;\">\n",
       "      <th></th>\n",
       "      <th>Actual Load</th>\n",
       "      <th>Date</th>\n",
       "      <th>Load_avg</th>\n",
       "    </tr>\n",
       "    <tr>\n",
       "      <th>Datetime</th>\n",
       "      <th></th>\n",
       "      <th></th>\n",
       "      <th></th>\n",
       "    </tr>\n",
       "  </thead>\n",
       "  <tbody>\n",
       "    <tr>\n",
       "      <th>2017-01-01 00:00:00+00:00</th>\n",
       "      <td>4197.0</td>\n",
       "      <td>2017-01-01 00:00:00+00:00</td>\n",
       "      <td>4150.00</td>\n",
       "    </tr>\n",
       "    <tr>\n",
       "      <th>2017-01-01 00:15:00+00:00</th>\n",
       "      <td>4176.0</td>\n",
       "      <td>2017-01-01 00:00:00+00:00</td>\n",
       "      <td>4150.00</td>\n",
       "    </tr>\n",
       "    <tr>\n",
       "      <th>2017-01-01 00:30:00+00:00</th>\n",
       "      <td>4121.0</td>\n",
       "      <td>2017-01-01 00:00:00+00:00</td>\n",
       "      <td>4150.00</td>\n",
       "    </tr>\n",
       "    <tr>\n",
       "      <th>2017-01-01 00:45:00+00:00</th>\n",
       "      <td>4106.0</td>\n",
       "      <td>2017-01-01 00:00:00+00:00</td>\n",
       "      <td>4150.00</td>\n",
       "    </tr>\n",
       "    <tr>\n",
       "      <th>2017-01-01 01:00:00+00:00</th>\n",
       "      <td>4113.0</td>\n",
       "      <td>2017-01-01 01:00:00+00:00</td>\n",
       "      <td>4032.75</td>\n",
       "    </tr>\n",
       "    <tr>\n",
       "      <th>...</th>\n",
       "      <td>...</td>\n",
       "      <td>...</td>\n",
       "      <td>...</td>\n",
       "    </tr>\n",
       "    <tr>\n",
       "      <th>2023-12-30 22:45:00+00:00</th>\n",
       "      <td>4755.0</td>\n",
       "      <td>2023-12-30 22:00:00+00:00</td>\n",
       "      <td>4845.50</td>\n",
       "    </tr>\n",
       "    <tr>\n",
       "      <th>2023-12-30 23:00:00+00:00</th>\n",
       "      <td>4687.0</td>\n",
       "      <td>2023-12-30 23:00:00+00:00</td>\n",
       "      <td>4587.75</td>\n",
       "    </tr>\n",
       "    <tr>\n",
       "      <th>2023-12-30 23:15:00+00:00</th>\n",
       "      <td>4597.0</td>\n",
       "      <td>2023-12-30 23:00:00+00:00</td>\n",
       "      <td>4587.75</td>\n",
       "    </tr>\n",
       "    <tr>\n",
       "      <th>2023-12-30 23:30:00+00:00</th>\n",
       "      <td>4578.0</td>\n",
       "      <td>2023-12-30 23:00:00+00:00</td>\n",
       "      <td>4587.75</td>\n",
       "    </tr>\n",
       "    <tr>\n",
       "      <th>2023-12-30 23:45:00+00:00</th>\n",
       "      <td>4489.0</td>\n",
       "      <td>2023-12-30 23:00:00+00:00</td>\n",
       "      <td>4587.75</td>\n",
       "    </tr>\n",
       "  </tbody>\n",
       "</table>\n",
       "<p>244696 rows × 3 columns</p>\n",
       "</div>"
      ],
      "text/plain": [
       "                           Actual Load                      Date  Load_avg\n",
       "Datetime                                                                  \n",
       "2017-01-01 00:00:00+00:00       4197.0 2017-01-01 00:00:00+00:00   4150.00\n",
       "2017-01-01 00:15:00+00:00       4176.0 2017-01-01 00:00:00+00:00   4150.00\n",
       "2017-01-01 00:30:00+00:00       4121.0 2017-01-01 00:00:00+00:00   4150.00\n",
       "2017-01-01 00:45:00+00:00       4106.0 2017-01-01 00:00:00+00:00   4150.00\n",
       "2017-01-01 01:00:00+00:00       4113.0 2017-01-01 01:00:00+00:00   4032.75\n",
       "...                                ...                       ...       ...\n",
       "2023-12-30 22:45:00+00:00       4755.0 2023-12-30 22:00:00+00:00   4845.50\n",
       "2023-12-30 23:00:00+00:00       4687.0 2023-12-30 23:00:00+00:00   4587.75\n",
       "2023-12-30 23:15:00+00:00       4597.0 2023-12-30 23:00:00+00:00   4587.75\n",
       "2023-12-30 23:30:00+00:00       4578.0 2023-12-30 23:00:00+00:00   4587.75\n",
       "2023-12-30 23:45:00+00:00       4489.0 2023-12-30 23:00:00+00:00   4587.75\n",
       "\n",
       "[244696 rows x 3 columns]"
      ]
     },
     "execution_count": 118,
     "metadata": {},
     "output_type": "execute_result"
    }
   ],
   "source": [
    "load_df = load_15min_to_hourly(load_df)\n",
    "load_df"
   ]
  },
  {
   "cell_type": "code",
   "execution_count": 119,
   "metadata": {},
   "outputs": [
    {
     "data": {
      "text/html": [
       "<div>\n",
       "<style scoped>\n",
       "    .dataframe tbody tr th:only-of-type {\n",
       "        vertical-align: middle;\n",
       "    }\n",
       "\n",
       "    .dataframe tbody tr th {\n",
       "        vertical-align: top;\n",
       "    }\n",
       "\n",
       "    .dataframe thead th {\n",
       "        text-align: right;\n",
       "    }\n",
       "</style>\n",
       "<table border=\"1\" class=\"dataframe\">\n",
       "  <thead>\n",
       "    <tr style=\"text-align: right;\">\n",
       "      <th></th>\n",
       "      <th>Load_avg</th>\n",
       "    </tr>\n",
       "    <tr>\n",
       "      <th>Datetime</th>\n",
       "      <th></th>\n",
       "    </tr>\n",
       "  </thead>\n",
       "  <tbody>\n",
       "    <tr>\n",
       "      <th>2017-01-01 00:00:00+00:00</th>\n",
       "      <td>4150.00</td>\n",
       "    </tr>\n",
       "    <tr>\n",
       "      <th>2017-01-01 01:00:00+00:00</th>\n",
       "      <td>4032.75</td>\n",
       "    </tr>\n",
       "    <tr>\n",
       "      <th>2017-01-01 02:00:00+00:00</th>\n",
       "      <td>3777.25</td>\n",
       "    </tr>\n",
       "    <tr>\n",
       "      <th>2017-01-01 03:00:00+00:00</th>\n",
       "      <td>3582.25</td>\n",
       "    </tr>\n",
       "    <tr>\n",
       "      <th>2017-01-01 04:00:00+00:00</th>\n",
       "      <td>3515.75</td>\n",
       "    </tr>\n",
       "    <tr>\n",
       "      <th>...</th>\n",
       "      <td>...</td>\n",
       "    </tr>\n",
       "    <tr>\n",
       "      <th>2023-12-30 19:00:00+00:00</th>\n",
       "      <td>5379.75</td>\n",
       "    </tr>\n",
       "    <tr>\n",
       "      <th>2023-12-30 20:00:00+00:00</th>\n",
       "      <td>5280.25</td>\n",
       "    </tr>\n",
       "    <tr>\n",
       "      <th>2023-12-30 21:00:00+00:00</th>\n",
       "      <td>5077.50</td>\n",
       "    </tr>\n",
       "    <tr>\n",
       "      <th>2023-12-30 22:00:00+00:00</th>\n",
       "      <td>4845.50</td>\n",
       "    </tr>\n",
       "    <tr>\n",
       "      <th>2023-12-30 23:00:00+00:00</th>\n",
       "      <td>4587.75</td>\n",
       "    </tr>\n",
       "  </tbody>\n",
       "</table>\n",
       "<p>61174 rows × 1 columns</p>\n",
       "</div>"
      ],
      "text/plain": [
       "                           Load_avg\n",
       "Datetime                           \n",
       "2017-01-01 00:00:00+00:00   4150.00\n",
       "2017-01-01 01:00:00+00:00   4032.75\n",
       "2017-01-01 02:00:00+00:00   3777.25\n",
       "2017-01-01 03:00:00+00:00   3582.25\n",
       "2017-01-01 04:00:00+00:00   3515.75\n",
       "...                             ...\n",
       "2023-12-30 19:00:00+00:00   5379.75\n",
       "2023-12-30 20:00:00+00:00   5280.25\n",
       "2023-12-30 21:00:00+00:00   5077.50\n",
       "2023-12-30 22:00:00+00:00   4845.50\n",
       "2023-12-30 23:00:00+00:00   4587.75\n",
       "\n",
       "[61174 rows x 1 columns]"
      ]
     },
     "execution_count": 119,
     "metadata": {},
     "output_type": "execute_result"
    }
   ],
   "source": [
    "load_df = load_df[['Date', 'Load_avg']].drop_duplicates()\n",
    "load_df.drop(columns=['Date'], inplace=True)\n",
    "load_df"
   ]
  },
  {
   "cell_type": "markdown",
   "metadata": {},
   "source": [
    "Concatenate the Load_avg to the base df"
   ]
  },
  {
   "cell_type": "code",
   "execution_count": 125,
   "metadata": {},
   "outputs": [
    {
     "data": {
      "text/html": [
       "<div>\n",
       "<style scoped>\n",
       "    .dataframe tbody tr th:only-of-type {\n",
       "        vertical-align: middle;\n",
       "    }\n",
       "\n",
       "    .dataframe tbody tr th {\n",
       "        vertical-align: top;\n",
       "    }\n",
       "\n",
       "    .dataframe thead th {\n",
       "        text-align: right;\n",
       "    }\n",
       "</style>\n",
       "<table border=\"1\" class=\"dataframe\">\n",
       "  <thead>\n",
       "    <tr style=\"text-align: right;\">\n",
       "      <th></th>\n",
       "      <th>Price</th>\n",
       "      <th>Load_avg</th>\n",
       "    </tr>\n",
       "    <tr>\n",
       "      <th>Datetime</th>\n",
       "      <th></th>\n",
       "      <th></th>\n",
       "    </tr>\n",
       "  </thead>\n",
       "  <tbody>\n",
       "    <tr>\n",
       "      <th>2017-01-01 00:00:00+00:00</th>\n",
       "      <td>57.25</td>\n",
       "      <td>4150.00</td>\n",
       "    </tr>\n",
       "    <tr>\n",
       "      <th>2017-01-01 01:00:00+00:00</th>\n",
       "      <td>50.21</td>\n",
       "      <td>4032.75</td>\n",
       "    </tr>\n",
       "    <tr>\n",
       "      <th>2017-01-01 02:00:00+00:00</th>\n",
       "      <td>44.04</td>\n",
       "      <td>3777.25</td>\n",
       "    </tr>\n",
       "    <tr>\n",
       "      <th>2017-01-01 03:00:00+00:00</th>\n",
       "      <td>32.81</td>\n",
       "      <td>3582.25</td>\n",
       "    </tr>\n",
       "    <tr>\n",
       "      <th>2017-01-01 04:00:00+00:00</th>\n",
       "      <td>28.41</td>\n",
       "      <td>3515.75</td>\n",
       "    </tr>\n",
       "    <tr>\n",
       "      <th>...</th>\n",
       "      <td>...</td>\n",
       "      <td>...</td>\n",
       "    </tr>\n",
       "    <tr>\n",
       "      <th>2023-12-30 20:00:00+00:00</th>\n",
       "      <td>62.01</td>\n",
       "      <td>5280.25</td>\n",
       "    </tr>\n",
       "    <tr>\n",
       "      <th>2023-12-30 21:00:00+00:00</th>\n",
       "      <td>53.41</td>\n",
       "      <td>5077.50</td>\n",
       "    </tr>\n",
       "    <tr>\n",
       "      <th>2023-12-30 22:00:00+00:00</th>\n",
       "      <td>50.10</td>\n",
       "      <td>4845.50</td>\n",
       "    </tr>\n",
       "    <tr>\n",
       "      <th>2023-12-30 23:00:00+00:00</th>\n",
       "      <td>43.23</td>\n",
       "      <td>4587.75</td>\n",
       "    </tr>\n",
       "    <tr>\n",
       "      <th>2023-12-31 00:00:00+00:00</th>\n",
       "      <td>34.76</td>\n",
       "      <td>NaN</td>\n",
       "    </tr>\n",
       "  </tbody>\n",
       "</table>\n",
       "<p>61183 rows × 2 columns</p>\n",
       "</div>"
      ],
      "text/plain": [
       "                           Price  Load_avg\n",
       "Datetime                                  \n",
       "2017-01-01 00:00:00+00:00  57.25   4150.00\n",
       "2017-01-01 01:00:00+00:00  50.21   4032.75\n",
       "2017-01-01 02:00:00+00:00  44.04   3777.25\n",
       "2017-01-01 03:00:00+00:00  32.81   3582.25\n",
       "2017-01-01 04:00:00+00:00  28.41   3515.75\n",
       "...                          ...       ...\n",
       "2023-12-30 20:00:00+00:00  62.01   5280.25\n",
       "2023-12-30 21:00:00+00:00  53.41   5077.50\n",
       "2023-12-30 22:00:00+00:00  50.10   4845.50\n",
       "2023-12-30 23:00:00+00:00  43.23   4587.75\n",
       "2023-12-31 00:00:00+00:00  34.76       NaN\n",
       "\n",
       "[61183 rows x 2 columns]"
      ]
     },
     "execution_count": 125,
     "metadata": {},
     "output_type": "execute_result"
    }
   ],
   "source": [
    "df = pd.concat([df, load_df], axis=1)\n",
    "df"
   ]
  },
  {
   "cell_type": "markdown",
   "metadata": {},
   "source": [
    "# Evaluation metric"
   ]
  },
  {
   "cell_type": "code",
   "execution_count": 126,
   "metadata": {},
   "outputs": [],
   "source": [
    "def base_eval(y_true, y_pred):\n",
    "    error = np.mean(abs(y_true - y_pred))\n",
    "    print(f'Base evaluation (abs error): {error}')"
   ]
  },
  {
   "cell_type": "code",
   "execution_count": 127,
   "metadata": {},
   "outputs": [],
   "source": [
    "def weighted_eval(y_true, y_pred, load):\n",
    "    error = np.mean(abs((y_true - y_pred)*load))\n",
    "    print(f'Weighted evaluation (abs error): {error}')"
   ]
  },
  {
   "cell_type": "markdown",
   "metadata": {},
   "source": [
    "# Baseline model"
   ]
  },
  {
   "cell_type": "code",
   "execution_count": 128,
   "metadata": {},
   "outputs": [],
   "source": [
    "def baseline_model(df):\n",
    "    y_pred = df['Price'].shift(7*24)\n",
    "    df['Base_pred'] = y_pred\n",
    "    return df"
   ]
  },
  {
   "cell_type": "code",
   "execution_count": 130,
   "metadata": {},
   "outputs": [
    {
     "name": "stdout",
     "output_type": "stream",
     "text": [
      "Base evaluation (abs error): 27.488985921941172\n",
      "Weighted evaluation (abs error): 132687.2091716281\n"
     ]
    }
   ],
   "source": [
    "df = baseline_model(df)\n",
    "start_date = '2023-01-01'\n",
    "end_date = '2023-12-31'\n",
    "base_eval(df.loc[start_date:end_date, 'Price'], df.loc[start_date:end_date, 'Base_pred'])\n",
    "weighted_eval(df.loc[start_date:end_date, 'Price'], df.loc[start_date:end_date, 'Base_pred'], df.loc[start_date:end_date, 'Load_avg'])"
   ]
  },
  {
   "cell_type": "markdown",
   "metadata": {},
   "source": [
    "# Notes\n",
    "\n",
    "Ma 8as adatokkal 9ig a holnapit (a mait mind ismerem)\n",
    "- baseline1 az 1 heti adat\n",
    "- baseline2 hasonló időjárású nap\n",
    "\n",
    "Kiértékelés:\n",
    "- v1 abs hiba (hány eurót tévedtünk)\n",
    "- v2 adott órában mennyi a load (termelés / fogyasztás), hiba súlyozva a teljes fogyasztással\n",
    "\n",
    "Opciók\n",
    "- recurrent nn predictor (?)\n",
    "- gbm regressor\n",
    "-- (előzö napi adatok, napelemek termelése, román adatok, hőmérséklet..., körny ország árai)\n",
    "-- walk forward opt\n",
    "\n",
    "keretrendszer\n",
    "feture inportance alapján feature selection \n",
    "- változásuk követése !!!\n",
    "\n",
    "(talán osztrák is számít, meg kell nézni melyik számít)\n",
    "\n",
    "időjárási adatok (első körben tényadatok, nem előrejelzés) próbálkozni kell, drága lehet, kb kizárt \n",
    "\n",
    "- végén fontos és ***nem fontos*** változók listája\n",
    "\n",
    "3 fontos időjárás (régiós, a napi bontás is jó)\n",
    "- hány fok van (fűtés / hűtés)\n",
    "- besugárzás\n",
    "- szélerősség\n",
    "\n",
    "\n",
    "-Hányszor volt negatív ár - statisztika róla (Meg tudjuk-e mondani, hogy mikor lesz negatív ár)\n",
    "-- Ez is lehet célváltozó és kiértékelés\n",
    "\n",
    "- Napi egy órát kikapcsoljuk, cél: mikor legyen (mert a többi órában többet tudunk termelni)\n",
    "-- Meg lehet nézni, hogy melyik lesz a legdrágább óra\n"
   ]
  }
 ],
 "metadata": {
  "kernelspec": {
   "display_name": "pygpu",
   "language": "python",
   "name": "python3"
  },
  "language_info": {
   "codemirror_mode": {
    "name": "ipython",
    "version": 3
   },
   "file_extension": ".py",
   "mimetype": "text/x-python",
   "name": "python",
   "nbconvert_exporter": "python",
   "pygments_lexer": "ipython3",
   "version": "3.12.1"
  }
 },
 "nbformat": 4,
 "nbformat_minor": 2
}
